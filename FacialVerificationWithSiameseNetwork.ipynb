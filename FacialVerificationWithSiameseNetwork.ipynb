{
  "nbformat": 4,
  "nbformat_minor": 0,
  "metadata": {
    "colab": {
      "name": "FacialVerificationWithSiameseNetwork.ipynb",
      "provenance": [],
      "toc_visible": true,
      "authorship_tag": "ABX9TyNkXyTNlqI2YXOzWWdbofSh",
      "include_colab_link": true
    },
    "kernelspec": {
      "name": "python3",
      "display_name": "Python 3"
    },
    "language_info": {
      "name": "python"
    }
  },
  "cells": [
    {
      "cell_type": "markdown",
      "metadata": {
        "id": "view-in-github",
        "colab_type": "text"
      },
      "source": [
        "<a href=\"https://colab.research.google.com/github/usUpal/facial-recognition-app/blob/main/FacialVerificationWithSiameseNetwork.ipynb\" target=\"_parent\"><img src=\"https://colab.research.google.com/assets/colab-badge.svg\" alt=\"Open In Colab\"/></a>"
      ]
    },
    {
      "cell_type": "markdown",
      "source": [
        "* original paper: https://www.cs.cmu.edu/~rsalakhu/papers/oneshot1.pdf\n",
        "* tutorial: https://www.youtube.com/watch?v=LKispFFQ5GU&ab_channel=NicholasRenotte"
      ],
      "metadata": {
        "id": "7U7ImW0mBSdT"
      }
    },
    {
      "cell_type": "markdown",
      "source": [
        "# 1. Setup"
      ],
      "metadata": {
        "id": "rQeVDF7AB5lx"
      }
    },
    {
      "cell_type": "markdown",
      "source": [
        "## 1.1 Install Dependencies"
      ],
      "metadata": {
        "id": "ZjcA0RaIB8xx"
      }
    },
    {
      "cell_type": "markdown",
      "source": [
        "## 1.2 Import Dependencies"
      ],
      "metadata": {
        "id": "7m8bgTYKB-Uf"
      }
    },
    {
      "cell_type": "markdown",
      "source": [
        "## 1.3 Set GPU Growth"
      ],
      "metadata": {
        "id": "1__ip7wAB-Rv"
      }
    },
    {
      "cell_type": "markdown",
      "source": [
        "## 1.4 Set Dir Structures"
      ],
      "metadata": {
        "id": "Wza0BB_MB-PH"
      }
    },
    {
      "cell_type": "markdown",
      "source": [
        "# 2. Collect Positve and Anchors"
      ],
      "metadata": {
        "id": "Jh0b99IoB-M2"
      }
    },
    {
      "cell_type": "markdown",
      "source": [
        "## 2.1 Untar Labelled Faces in the wild dataset"
      ],
      "metadata": {
        "id": "RiwYiFUUB-Kb"
      }
    },
    {
      "cell_type": "markdown",
      "source": [
        "## 2.2 Collect positive and anchor classes"
      ],
      "metadata": {
        "id": "GgeHgqYkB-H3"
      }
    },
    {
      "cell_type": "markdown",
      "source": [
        "# 3. Load and Preprocess Images"
      ],
      "metadata": {
        "id": "wDdV8XKPB-E9"
      }
    },
    {
      "cell_type": "markdown",
      "source": [
        "## 3.1 Get Image Directories"
      ],
      "metadata": {
        "id": "yUAFjkq8DDAf"
      }
    },
    {
      "cell_type": "markdown",
      "source": [
        "## 3.2 Preprocessing- Resize and Scale"
      ],
      "metadata": {
        "id": "6TFHGU79DC9V"
      }
    },
    {
      "cell_type": "markdown",
      "source": [
        "## 3.3 Create Labelled Dataset"
      ],
      "metadata": {
        "id": "TBr2mNRODC6l"
      }
    },
    {
      "cell_type": "markdown",
      "source": [
        "##3.4 Build Train and Test Partition"
      ],
      "metadata": {
        "id": "N1qUQwMKDC3l"
      }
    },
    {
      "cell_type": "markdown",
      "source": [
        "# 4. Model Train"
      ],
      "metadata": {
        "id": "s-JRS3hZDC0v"
      }
    },
    {
      "cell_type": "markdown",
      "source": [
        "## 4.1 Model Embedding Layer"
      ],
      "metadata": {
        "id": "LA5zRxv8DCx5"
      }
    },
    {
      "cell_type": "markdown",
      "source": [
        "## 4.2 Build Distance Layer"
      ],
      "metadata": {
        "id": "Sx6TnzboDCuw"
      }
    },
    {
      "cell_type": "markdown",
      "source": [
        "## 4.3 Make Siamese Model"
      ],
      "metadata": {
        "id": "QJ20byAVDCr3"
      }
    },
    {
      "cell_type": "markdown",
      "source": [
        "# 5. Training"
      ],
      "metadata": {
        "id": "6OYV7342DCoZ"
      }
    },
    {
      "cell_type": "markdown",
      "source": [
        "## 5.1 Setup loss and Optimizer"
      ],
      "metadata": {
        "id": "AK8Ylq3bDCiw"
      }
    },
    {
      "cell_type": "markdown",
      "source": [
        "## 5.2 Establish Checkpoints"
      ],
      "metadata": {
        "id": "kUyhPesRDCgG"
      }
    },
    {
      "cell_type": "markdown",
      "source": [
        "## 5.3 Build Train Step Function"
      ],
      "metadata": {
        "id": "rcYPGCBbDCc_"
      }
    },
    {
      "cell_type": "markdown",
      "source": [
        "## 5.4 Build Training Loop"
      ],
      "metadata": {
        "id": "Zua7ckAiEVuv"
      }
    },
    {
      "cell_type": "markdown",
      "source": [
        "## 5.5 Train the Model"
      ],
      "metadata": {
        "id": "ubhMU2OGEVrt"
      }
    },
    {
      "cell_type": "markdown",
      "source": [
        "# 6. Evaluate Model"
      ],
      "metadata": {
        "id": "3lNp9i8WEVpV"
      }
    },
    {
      "cell_type": "markdown",
      "source": [
        "## 6.1 Import Metrics"
      ],
      "metadata": {
        "id": "56A408dVEVmm"
      }
    },
    {
      "cell_type": "markdown",
      "source": [
        "## 6.2 Make Predictions"
      ],
      "metadata": {
        "id": "yGeR8L03EVja"
      }
    },
    {
      "cell_type": "markdown",
      "source": [
        "## 6.3 Calculate Metrics"
      ],
      "metadata": {
        "id": "OFOp4i9nEVhV"
      }
    },
    {
      "cell_type": "markdown",
      "source": [
        "## 6.4 Viz Results"
      ],
      "metadata": {
        "id": "pW3aAEs9EVen"
      }
    },
    {
      "cell_type": "markdown",
      "source": [
        "# 7. Save Model"
      ],
      "metadata": {
        "id": "hAO-NtzAEVbx"
      }
    },
    {
      "cell_type": "markdown",
      "source": [
        "# 8. Real Time Test"
      ],
      "metadata": {
        "id": "-ji4GYW9EVYu"
      }
    },
    {
      "cell_type": "markdown",
      "source": [
        "## 8.1 Verification Function"
      ],
      "metadata": {
        "id": "mpVqiEcOFKkb"
      }
    },
    {
      "cell_type": "markdown",
      "source": [
        "## 8.2 OpenCV real time verification\n"
      ],
      "metadata": {
        "id": "C4p9GsoqFKh0"
      }
    }
  ]
}